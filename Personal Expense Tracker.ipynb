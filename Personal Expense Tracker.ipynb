{
 "cells": [
  {
   "cell_type": "code",
   "execution_count": 2,
   "id": "64bef82a-3408-4ea2-9dd7-aa1246359a66",
   "metadata": {},
   "outputs": [],
   "source": [
    "#1.Add an expense:\n",
    "def collect_expenses():\n",
    "    expenses = []\n",
    "\n",
    "    while True:\n",
    "        # Prompt for expense details\n",
    "        date = input(\"Enter the date of the expense (YYYY-MM-DD): \")\n",
    "        category = input(\"Enter the category of the expense (e.g., Food, Travel): \")\n",
    "        amount = float(input(\"Enter the amount spent: \"))\n",
    "        description = input(\"Enter a brief description of the expense: \")\n",
    "\n",
    "        # Store expense in a dictionary\n",
    "        expense = {\n",
    "            'date': date,\n",
    "            'category': category,\n",
    "            'amount': amount,\n",
    "            'description': description\n",
    "        }\n"
   ]
  },
  {
   "cell_type": "code",
   "execution_count": 4,
   "id": "d5630e02-ae32-4f7e-a196-a07ea91df96a",
   "metadata": {},
   "outputs": [
    {
     "name": "stdout",
     "output_type": "stream",
     "text": [
      "Expense 1:\n",
      "  Date: 2023-01-01\n",
      "  Category: Food\n",
      "  Amount: 50.0\n",
      "  Description: Groceries\n",
      "\n",
      "Expense 2 is incomplete and has been skipped.\n",
      "Expense 3:\n",
      "  Date: 2023-01-03\n",
      "  Category: Entertainment\n",
      "  Amount: 75.0\n",
      "  Description: Movie tickets\n",
      "\n"
     ]
    }
   ],
   "source": [
    "#2. View expenses:\n",
    "def view_expenses(expenses):\n",
    "    if not expenses:\n",
    "        print(\"No expenses to display.\")\n",
    "        return\n",
    "\n",
    "    for i, expense in enumerate(expenses, start=1):\n",
    "        if all(key in expense and expense[key] for key in ['date', 'category', 'amount', 'description']):\n",
    "            print(f\"Expense {i}:\")\n",
    "            print(f\"  Date: {expense['date']}\")\n",
    "            print(f\"  Category: {expense['category']}\")\n",
    "            print(f\"  Amount: {expense['amount']}\")\n",
    "            print(f\"  Description: {expense['description']}\")\n",
    "            print()\n",
    "        else:\n",
    "            print(f\"Expense {i} is incomplete and has been skipped.\")\n",
    "\n",
    "# Example usage with collected expenses\n",
    "expenses_list = [\n",
    "    {'date': '2023-01-01', 'category': 'Food', 'amount': 50.0, 'description': 'Groceries'},\n",
    "    {'date': '2023-01-02', 'category': 'Travel', 'amount': 150.0},  # Incomplete\n",
    "    {'date': '2023-01-03', 'category': 'Entertainment', 'amount': 75.0, 'description': 'Movie tickets'}\n",
    "]\n",
    "\n",
    "view_expenses(expenses_list)\n"
   ]
  },
  {
   "cell_type": "code",
   "execution_count": 8,
   "id": "522f1bca-5021-49b9-83a9-7a90fe66ebee",
   "metadata": {},
   "outputs": [
    {
     "name": "stdin",
     "output_type": "stream",
     "text": [
      "Enter the total amount you want to budget for the month:  150\n"
     ]
    },
    {
     "name": "stdout",
     "output_type": "stream",
     "text": [
      "Total expenses recorded so far: 125.0\n",
      "You have 25.0 left for the month.\n"
     ]
    }
   ],
   "source": [
    "#3.Set and Track Budget\n",
    "def set_monthly_budget():\n",
    "    while True:\n",
    "        try:\n",
    "            budget = float(input(\"Enter the total amount you want to budget for the month: \"))\n",
    "            if budget < 0:\n",
    "                print(\"Budget cannot be negative. Please enter a positive amount.\")\n",
    "            else:\n",
    "                return budget\n",
    "        except ValueError:\n",
    "            print(\"Invalid input. Please enter a numeric value.\")\n",
    "\n",
    "def calculate_total_expenses(expenses):\n",
    "    return sum(expense['amount'] for expense in expenses if 'amount' in expense)\n",
    "\n",
    "def check_budget(expenses, budget):\n",
    "    total_expenses = calculate_total_expenses(expenses)\n",
    "    remaining_budget = budget - total_expenses\n",
    "\n",
    "    print(f\"Total expenses recorded so far: {total_expenses}\")\n",
    "\n",
    "    if total_expenses > budget:\n",
    "        print(\"Warning: You have exceeded your budget!\")\n",
    "    else:\n",
    "        print(f\"You have {remaining_budget} left for the month.\")\n",
    "\n",
    "# Example usage\n",
    "monthly_budget = set_monthly_budget()\n",
    "expenses_list = [\n",
    "    {'date': '2023-01-01', 'category': 'Food', 'amount': 50.0, 'description': 'Groceries'},\n",
    "    {'date': '2023-01-03', 'category': 'Entertainment', 'amount': 75.0, 'description': 'Movie tickets'}\n",
    "]\n",
    "\n",
    "check_budget(expenses_list, monthly_budget)\n",
    "\n"
   ]
  },
  {
   "cell_type": "code",
   "execution_count": 10,
   "id": "004949f3-6709-4d2c-a6aa-6cafd6fa2bb3",
   "metadata": {},
   "outputs": [],
   "source": [
    "import pandas as pd"
   ]
  },
  {
   "cell_type": "code",
   "execution_count": 12,
   "id": "3c31b24d-76f2-4267-aee9-c87ed42f4bed",
   "metadata": {},
   "outputs": [],
   "source": [
    "#4.Save and Load Expenses\n",
    "df=pd.read_csv(r\"C:\\Users\\User\\OneDrive\\Desktop\\Expenses.csv\", header=None, names=['col1','col2','col3'])"
   ]
  },
  {
   "cell_type": "code",
   "execution_count": 14,
   "id": "0d2dfa81-21b0-464a-9d81-cd26dd0bf0ab",
   "metadata": {},
   "outputs": [],
   "source": [
    "def save_expenses_to_csv(expenses, Expenses):\n",
    "    with open(Expenses, mode='w', newline='') as file:\n",
    "        writer = csv.writer(file)\n",
    "        # Write the header row\n",
    "        writer.writerow(['date', 'category', 'amount', 'description'])\n",
    "        # Write the expense data rows\n",
    "        for expense in expenses:\n",
    "            writer.writerow([expense['date'], expense['category'], expense['amount'], expense['description']])\n",
    "\n",
    "def load_expenses_from_csv(Expenses):\n",
    "    expenses = []\n",
    "    try:\n",
    "        with open(Expenses, mode='r') as file:\n",
    "            reader = csv.DictReader(file)\n",
    "            for row in reader:\n",
    "                expenses.append({\n",
    "                    'date': row['date'],\n",
    "                    'category': row['category'],\n",
    "                    'amount': float(row['amount']),\n",
    "                    'description': row['description']\n",
    "                })\n",
    "    except FileNotFoundError:\n",
    "        print(f\"File '{Expenses}' not found. Starting with an empty list of expenses.\")\n",
    "    return expenses\n",
    "\n",
    "\n"
   ]
  },
  {
   "cell_type": "code",
   "execution_count": 16,
   "id": "33beadf8-d390-4fb3-a517-18cbfea1b659",
   "metadata": {},
   "outputs": [
    {
     "name": "stdin",
     "output_type": "stream",
     "text": [
      "Enter the total amount you want to budget for the month:  160\n"
     ]
    },
    {
     "name": "stdout",
     "output_type": "stream",
     "text": [
      "Menu:\n",
      "1. Add expense\n",
      "2. View expenses\n",
      "3. Track budget\n",
      "4. Save expenses\n",
      "5. Exit\n"
     ]
    },
    {
     "name": "stdin",
     "output_type": "stream",
     "text": [
      "Enter your choice (1-5):  1\n",
      "Enter the date of the expense (YYYY-MM-DD):  2025-19-04\n",
      "Enter the category of the expense (e.g., Food, Travel):  Food\n",
      "Enter the amount spent:  145\n",
      "Enter a brief description of the expense:  Gum\n",
      "Do you want to add another expense? (yes/no):  no\n"
     ]
    },
    {
     "name": "stdout",
     "output_type": "stream",
     "text": [
      "Menu:\n",
      "1. Add expense\n",
      "2. View expenses\n",
      "3. Track budget\n",
      "4. Save expenses\n",
      "5. Exit\n"
     ]
    },
    {
     "name": "stdin",
     "output_type": "stream",
     "text": [
      "Enter your choice (1-5):  5\n"
     ]
    },
    {
     "name": "stdout",
     "output_type": "stream",
     "text": [
      "Expenses saved to 'Expenses.csv'. Exiting the program.\n"
     ]
    }
   ],
   "source": [
    "#5. Create an interactive menu\n",
    "import csv\n",
    "def collect_expenses(expenses):\n",
    "    while True:\n",
    "        date = input(\"Enter the date of the expense (YYYY-MM-DD): \")\n",
    "        category = input(\"Enter the category of the expense (e.g., Food, Travel): \")\n",
    "        amount = float(input(\"Enter the amount spent: \"))\n",
    "        description = input(\"Enter a brief description of the expense: \")\n",
    "\n",
    "        expense = {\n",
    "            'date': date,\n",
    "            'category': category,\n",
    "            'amount': amount,\n",
    "            'description': description\n",
    "        }\n",
    "        expenses.append(expense)\n",
    "\n",
    "        more = input(\"Do you want to add another expense? (yes/no): \").strip().lower()\n",
    "        if more != 'yes':\n",
    "            break\n",
    "\n",
    "def view_expenses(expenses):\n",
    "    if not expenses:\n",
    "        print(\"No expenses to display.\")\n",
    "        return\n",
    "\n",
    "    for i, expense in enumerate(expenses, start=1):\n",
    "        if all(key in expense and expense[key] for key in ['date', 'category', 'amount', 'description']):\n",
    "            print(f\"Expense {i}:\")\n",
    "            print(f\"  Date: {expense['date']}\")\n",
    "            print(f\"  Category: {expense['category']}\")\n",
    "            print(f\"  Amount: {expense['amount']}\")\n",
    "            print(f\"  Description: {expense['description']}\")\n",
    "            print()\n",
    "        else:\n",
    "            print(f\"Expense {i} is incomplete and has been skipped.\")\n",
    "\n",
    "def set_monthly_budget():\n",
    "    while True:\n",
    "        try:\n",
    "            budget = float(input(\"Enter the total amount you want to budget for the month: \"))\n",
    "            if budget < 0:\n",
    "                print(\"Budget cannot be negative. Please enter a positive amount.\")\n",
    "            else:\n",
    "                return budget\n",
    "        except ValueError:\n",
    "            print(\"Invalid input. Please enter a numeric value.\")\n",
    "\n",
    "def calculate_total_expenses(expenses):\n",
    "    return sum(expense['amount'] for expense in expenses if 'amount' in expense)\n",
    "\n",
    "def check_budget(expenses, budget):\n",
    "    total_expenses = calculate_total_expenses(expenses)\n",
    "    remaining_budget = budget - total_expenses\n",
    "\n",
    "    print(f\"Total expenses recorded so far: {total_expenses}\")\n",
    "\n",
    "    if total_expenses > budget:\n",
    "        print(\"Warning: You have exceeded your budget!\")\n",
    "    else:\n",
    "        print(f\"You have {remaining_budget} left for the month.\")\n",
    "\n",
    "def save_expenses_to_csv(expenses, Expenses):\n",
    "    with open(Expenses, mode='w', newline='') as file:\n",
    "        writer = csv.writer(file)\n",
    "        writer.writerow(['date', 'category', 'amount', 'description'])\n",
    "        for expense in expenses:\n",
    "            writer.writerow([expense['date'], expense['category'], expense['amount'], expense['description']])\n",
    "\n",
    "def load_expenses_from_csv(Expenses):\n",
    "    expenses = []\n",
    "    try:\n",
    "        with open(Expenses, mode='r') as file:\n",
    "            reader = csv.DictReader(file)\n",
    "            for row in reader:\n",
    "                expenses.append({\n",
    "                    'date': row['date'],\n",
    "                    'category': row['category'],\n",
    "                    'amount': float(row['amount']),\n",
    "                    'description': row['description']\n",
    "                })\n",
    "    except FileNotFoundError:\n",
    "        print(f\"File '{Expensses}' not found. Starting with an empty list of expenses.\")\n",
    "    return expenses\n",
    "\n",
    "def display_menu():\n",
    "    print(\"Menu:\")\n",
    "    print(\"1. Add expense\")\n",
    "    print(\"2. View expenses\")\n",
    "    print(\"3. Track budget\")\n",
    "    print(\"4. Save expenses\")\n",
    "    print(\"5. Exit\")\n",
    "\n",
    "def main():\n",
    "    expenses = load_expenses_from_csv('Expenses.csv')\n",
    "    budget = set_monthly_budget()\n",
    "\n",
    "    while True:\n",
    "        display_menu()\n",
    "        choice = input(\"Enter your choice (1-5): \").strip()\n",
    "\n",
    "        if choice == '1':\n",
    "            collect_expenses(expenses)\n",
    "        elif choice == '2':\n",
    "            view_expenses(expenses)\n",
    "        elif choice == '3':\n",
    "            check_budget(expenses, budget)\n",
    "        elif choice == '4':\n",
    "            save_expenses_to_csv(expenses, 'Expenses.csv')\n",
    "            print(\"Expenses saved to 'Expenses.csv'.\")\n",
    "        elif choice == '5':\n",
    "            save_expenses_to_csv(expenses, 'Expenses.csv')\n",
    "            print(\"Expenses saved to 'Expenses.csv'. Exiting the program.\")\n",
    "            break\n",
    "        else:\n",
    "            print(\"Invalid choice. Please enter a number between 1 and 5.\")\n",
    "\n",
    "if __name__ == \"__main__\":\n",
    "    main()\n",
    "    \n"
   ]
  },
  {
   "cell_type": "code",
   "execution_count": null,
   "id": "953de411-4cd3-45c6-9db2-fd9fca04c9ba",
   "metadata": {},
   "outputs": [],
   "source": []
  },
  {
   "cell_type": "code",
   "execution_count": null,
   "id": "da1fa06e-cb50-42f0-8813-9840291efd33",
   "metadata": {},
   "outputs": [],
   "source": []
  },
  {
   "cell_type": "code",
   "execution_count": null,
   "id": "b8ae12ef-2624-4419-a960-d3bee3c65b0a",
   "metadata": {},
   "outputs": [],
   "source": []
  },
  {
   "cell_type": "code",
   "execution_count": null,
   "id": "f7c5a7a0-34f9-45fc-a3eb-3c4fc16784aa",
   "metadata": {},
   "outputs": [],
   "source": []
  },
  {
   "cell_type": "code",
   "execution_count": null,
   "id": "4e3b89b4-d956-4195-836a-cd738e760119",
   "metadata": {},
   "outputs": [],
   "source": []
  },
  {
   "cell_type": "code",
   "execution_count": null,
   "id": "028c8420-41c2-4021-8820-e532706b06fd",
   "metadata": {},
   "outputs": [],
   "source": []
  },
  {
   "cell_type": "code",
   "execution_count": null,
   "id": "73755858-1e42-46d4-85d2-1c18b195aebc",
   "metadata": {},
   "outputs": [],
   "source": []
  },
  {
   "cell_type": "code",
   "execution_count": null,
   "id": "f4a8fb16-6128-4f7e-91d5-e6f1bd96352d",
   "metadata": {},
   "outputs": [],
   "source": []
  },
  {
   "cell_type": "code",
   "execution_count": null,
   "id": "f0a48bf5-633b-4ed3-b81a-642d181ec1b4",
   "metadata": {},
   "outputs": [],
   "source": []
  }
 ],
 "metadata": {
  "kernelspec": {
   "display_name": "Python [conda env:base] *",
   "language": "python",
   "name": "conda-base-py"
  },
  "language_info": {
   "codemirror_mode": {
    "name": "ipython",
    "version": 3
   },
   "file_extension": ".py",
   "mimetype": "text/x-python",
   "name": "python",
   "nbconvert_exporter": "python",
   "pygments_lexer": "ipython3",
   "version": "3.12.7"
  }
 },
 "nbformat": 4,
 "nbformat_minor": 5
}
